{
 "cells": [
  {
   "cell_type": "code",
   "execution_count": 8,
   "id": "4daaa82a",
   "metadata": {
    "scrolled": false
   },
   "outputs": [
    {
     "name": "stdout",
     "output_type": "stream",
     "text": [
      "Collecting opencv-python\n",
      "  Downloading opencv_python-4.6.0.66-cp36-abi3-win_amd64.whl (35.6 MB)\n",
      "Requirement already satisfied: numpy>=1.14.5 in c:\\users\\certainty\\anaconda3\\lib\\site-packages (from opencv-python) (1.21.5)\n",
      "Installing collected packages: opencv-python\n",
      "Successfully installed opencv-python-4.6.0.66\n"
     ]
    }
   ],
   "source": [
    "! pip install opencv-python"
   ]
  },
  {
   "cell_type": "code",
   "execution_count": 4,
   "id": "9c27cd80",
   "metadata": {},
   "outputs": [],
   "source": [
    "import tensorflow as tf # imort the tenserflow liabrary"
   ]
  },
  {
   "cell_type": "code",
   "execution_count": 5,
   "id": "9d61f769",
   "metadata": {},
   "outputs": [],
   "source": [
    "data = tf.keras.datasets.mnist  ## to get the image data tensorflow has provided a Keras api to access the datasets "
   ]
  },
  {
   "cell_type": "code",
   "execution_count": 6,
   "id": "14411e66",
   "metadata": {},
   "outputs": [],
   "source": [
    "# After loading the data, Divide it into a train and testing datasets  "
   ]
  },
  {
   "cell_type": "code",
   "execution_count": 7,
   "id": "ead3f1df",
   "metadata": {
    "scrolled": true
   },
   "outputs": [],
   "source": [
    "# unpacking a datasets into a train and test dataset \n",
    "(x_train , y_train), (x_test , y_test) = data.load_data()"
   ]
  },
  {
   "cell_type": "code",
   "execution_count": 11,
   "id": "790c5567",
   "metadata": {
    "scrolled": false
   },
   "outputs": [
    {
     "data": {
      "text/plain": [
       "(60000, 28, 28)"
      ]
     },
     "execution_count": 11,
     "metadata": {},
     "output_type": "execute_result"
    }
   ],
   "source": [
    "x_train.shape "
   ]
  },
  {
   "cell_type": "code",
   "execution_count": 12,
   "id": "fb7b99fb",
   "metadata": {},
   "outputs": [
    {
     "data": {
      "text/plain": [
       "60000"
      ]
     },
     "execution_count": 12,
     "metadata": {},
     "output_type": "execute_result"
    }
   ],
   "source": [
    "len(y_train)"
   ]
  },
  {
   "cell_type": "code",
   "execution_count": 13,
   "id": "cf5b9efd",
   "metadata": {
    "scrolled": true
   },
   "outputs": [
    {
     "data": {
      "text/plain": [
       "<matplotlib.image.AxesImage at 0x1c7f8283370>"
      ]
     },
     "execution_count": 13,
     "metadata": {},
     "output_type": "execute_result"
    },
    {
     "data": {
      "image/png": "[encoded data removed]",
      "text/plain": [
       "<Figure size 432x288 with 1 Axes>"
      ]
     },
     "metadata": {
      "needs_background": "light"
     },
     "output_type": "display_data"
    }
   ],
   "source": [
    "# just chack the graph, how data looks like \n",
    "import matplotlib.pyplot as plt \n",
    "#plt.imshow(x_train[0]) # Display data as an image\n",
    "#plt.show() # in order to execute graph \n",
    "# we dont know whether the image is color or black&white \n",
    "# will change the configuration \n",
    "plt.imshow(x_train[0] , cmap=plt.cm.binary)"
   ]
  },
  {
   "cell_type": "code",
   "execution_count": 14,
   "id": "f9f0f093",
   "metadata": {
    "scrolled": true
   },
   "outputs": [
    {
     "name": "stdout",
     "output_type": "stream",
     "text": [
      "[[  0   0   0   0   0   0   0   0   0   0   0   0   0   0   0   0   0   0\n",
      "    0   0   0   0   0   0   0   0   0   0]\n",
      " [  0   0   0   0   0   0   0   0   0   0   0   0   0   0   0   0   0   0\n",
      "    0   0   0   0   0   0   0   0   0   0]\n",
      " [  0   0   0   0   0   0   0   0   0   0   0   0   0   0   0   0   0   0\n",
      "    0   0   0   0   0   0   0   0   0   0]\n",
      " [  0   0   0   0   0   0   0   0   0   0   0   0   0   0   0   0   0   0\n",
      "    0   0   0   0   0   0   0   0   0   0]\n",
      " [  0   0   0   0   0   0   0   0   0   0   0   0   0   0   0   0   0   0\n",
      "    0   0   0   0   0   0   0   0   0   0]\n",
      " [  0   0   0   0   0   0   0   0   0   0   0   0   3  18  18  18 126 136\n",
      "  175  26 166 255 247 127   0   0   0   0]\n",
      " [  0   0   0   0   0   0   0   0  30  36  94 154 170 253 253 253 253 253\n",
      "  225 172 253 242 195  64   0   0   0   0]\n",
      " [  0   0   0   0   0   0   0  49 238 253 253 253 253 253 253 253 253 251\n",
      "   93  82  82  56  39   0   0   0   0   0]\n",
      " [  0   0   0   0   0   0   0  18 219 253 253 253 253 253 198 182 247 241\n",
      "    0   0   0   0   0   0   0   0   0   0]\n",
      " [  0   0   0   0   0   0   0   0  80 156 107 253 253 205  11   0  43 154\n",
      "    0   0   0   0   0   0   0   0   0   0]\n",
      " [  0   0   0   0   0   0   0   0   0  14   1 154 253  90   0   0   0   0\n",
      "    0   0   0   0   0   0   0   0   0   0]\n",
      " [  0   0   0   0   0   0   0   0   0   0   0 139 253 190   2   0   0   0\n",
      "    0   0   0   0   0   0   0   0   0   0]\n",
      " [  0   0   0   0   0   0   0   0   0   0   0  11 190 253  70   0   0   0\n",
      "    0   0   0   0   0   0   0   0   0   0]\n",
      " [  0   0   0   0   0   0   0   0   0   0   0   0  35 241 225 160 108   1\n",
      "    0   0   0   0   0   0   0   0   0   0]\n",
      " [  0   0   0   0   0   0   0   0   0   0   0   0   0  81 240 253 253 119\n",
      "   25   0   0   0   0   0   0   0   0   0]\n",
      " [  0   0   0   0   0   0   0   0   0   0   0   0   0   0  45 186 253 253\n",
      "  150  27   0   0   0   0   0   0   0   0]\n",
      " [  0   0   0   0   0   0   0   0   0   0   0   0   0   0   0  16  93 252\n",
      "  253 187   0   0   0   0   0   0   0   0]\n",
      " [  0   0   0   0   0   0   0   0   0   0   0   0   0   0   0   0   0 249\n",
      "  253 249  64   0   0   0   0   0   0   0]\n",
      " [  0   0   0   0   0   0   0   0   0   0   0   0   0   0  46 130 183 253\n",
      "  253 207   2   0   0   0   0   0   0   0]\n",
      " [  0   0   0   0   0   0   0   0   0   0   0   0  39 148 229 253 253 253\n",
      "  250 182   0   0   0   0   0   0   0   0]\n",
      " [  0   0   0   0   0   0   0   0   0   0  24 114 221 253 253 253 253 201\n",
      "   78   0   0   0   0   0   0   0   0   0]\n",
      " [  0   0   0   0   0   0   0   0  23  66 213 253 253 253 253 198  81   2\n",
      "    0   0   0   0   0   0   0   0   0   0]\n",
      " [  0   0   0   0   0   0  18 171 219 253 253 253 253 195  80   9   0   0\n",
      "    0   0   0   0   0   0   0   0   0   0]\n",
      " [  0   0   0   0  55 172 226 253 253 253 253 244 133  11   0   0   0   0\n",
      "    0   0   0   0   0   0   0   0   0   0]\n",
      " [  0   0   0   0 136 253 253 253 212 135 132  16   0   0   0   0   0   0\n",
      "    0   0   0   0   0   0   0   0   0   0]\n",
      " [  0   0   0   0   0   0   0   0   0   0   0   0   0   0   0   0   0   0\n",
      "    0   0   0   0   0   0   0   0   0   0]\n",
      " [  0   0   0   0   0   0   0   0   0   0   0   0   0   0   0   0   0   0\n",
      "    0   0   0   0   0   0   0   0   0   0]\n",
      " [  0   0   0   0   0   0   0   0   0   0   0   0   0   0   0   0   0   0\n",
      "    0   0   0   0   0   0   0   0   0   0]]\n"
     ]
    }
   ],
   "source": [
    "# cjecking the value of each pixels \n",
    "print(x_train[0]) # before normalization "
   ]
  },
  {
   "cell_type": "code",
   "execution_count": 26,
   "id": "1c700a07",
   "metadata": {
    "scrolled": true
   },
   "outputs": [
    {
     "data": {
      "text/plain": [
       "<matplotlib.image.AxesImage at 0x1c7f82edfd0>"
      ]
     },
     "execution_count": 26,
     "metadata": {},
     "output_type": "execute_result"
    },
    {
     "data": {
      "image/png": "[encoded data removed]",
      "text/plain": [
       "<Figure size 432x288 with 1 Axes>"
      ]
     },
     "metadata": {
      "needs_background": "light"
     },
     "output_type": "display_data"
    }
   ],
   "source": [
    "# As images are in gray Scale (1 channel=0 to 255), not colored \n",
    "# Normalizing the data| pre-processing Step \n",
    "# in order to train it will normalize it\n",
    "\n",
    "x_train = tf.keras.utils.normalize(x_train , axis = 1 ) # keras built in command to normalize the data  \n",
    "x_test = tf.keras.utils.normalize(x_test , axis = 1 )\n",
    "plt.imshow(x_train[0], cmap = plt.cm.binary)"
   ]
  },
  {
   "cell_type": "code",
   "execution_count": 29,
   "id": "498fc7fb",
   "metadata": {},
   "outputs": [
    {
     "name": "stdout",
     "output_type": "stream",
     "text": [
      "[[0.         0.         0.         0.         0.         0.\n",
      "  0.         0.         0.         0.         0.         0.\n",
      "  0.         0.         0.         0.         0.         0.\n",
      "  0.         0.         0.         0.         0.         0.\n",
      "  0.         0.         0.         0.        ]\n",
      " [0.         0.         0.         0.         0.         0.\n",
      "  0.         0.         0.         0.         0.         0.\n",
      "  0.         0.         0.         0.         0.         0.\n",
      "  0.         0.         0.         0.         0.         0.\n",
      "  0.         0.         0.         0.        ]\n",
      " [0.         0.         0.         0.         0.         0.\n",
      "  0.         0.         0.         0.         0.         0.\n",
      "  0.         0.         0.         0.         0.         0.\n",
      "  0.         0.         0.         0.         0.         0.\n",
      "  0.         0.         0.         0.        ]\n",
      " [0.         0.         0.         0.         0.         0.\n",
      "  0.         0.         0.         0.         0.         0.\n",
      "  0.         0.         0.         0.         0.         0.\n",
      "  0.         0.         0.         0.         0.         0.\n",
      "  0.         0.         0.         0.        ]\n",
      " [0.         0.         0.         0.         0.         0.\n",
      "  0.         0.         0.         0.         0.         0.\n",
      "  0.         0.         0.         0.         0.         0.\n",
      "  0.         0.         0.         0.         0.         0.\n",
      "  0.         0.         0.         0.        ]\n",
      " [0.         0.         0.         0.         0.         0.\n",
      "  0.         0.         0.         0.         0.         0.\n",
      "  0.00190911 0.01053178 0.01547249 0.01524771 0.0991862  0.09712322\n",
      "  0.15408203 0.0303797  0.5305967  0.76127853 0.81601739 0.91352982\n",
      "  0.         0.         0.         0.        ]\n",
      " [0.         0.         0.         0.         0.         0.\n",
      "  0.         0.         0.06151529 0.06193541 0.1450107  0.14185297\n",
      "  0.08993705 0.12627951 0.18884072 0.18728479 0.17521654 0.15884321\n",
      "  0.17251975 0.1747952  0.70581963 0.62910944 0.56414357 0.40677177\n",
      "  0.         0.         0.         0.        ]\n",
      " [0.         0.         0.         0.         0.         0.\n",
      "  0.         0.13114351 0.460268   0.42108494 0.38662352 0.23654022\n",
      "  0.14136331 0.13836212 0.21256966 0.21422163 0.20001552 0.17722589\n",
      "  0.0785309  0.08965426 0.24450193 0.15708695 0.1259272  0.\n",
      "  0.         0.         0.         0.        ]\n",
      " [0.         0.         0.         0.         0.         0.\n",
      "  0.         0.0503547  0.43882918 0.43856712 0.40565841 0.25493551\n",
      "  0.15937423 0.1638724  0.20427107 0.19177845 0.2403377  0.20409987\n",
      "  0.         0.         0.         0.         0.         0.\n",
      "  0.         0.         0.         0.        ]\n",
      " [0.         0.         0.         0.         0.         0.\n",
      "  0.         0.         0.26106546 0.44118877 0.2832418  0.43654843\n",
      "  0.28817878 0.25357734 0.02213044 0.         0.07847494 0.23736454\n",
      "  0.         0.         0.         0.         0.         0.\n",
      "  0.         0.         0.         0.        ]\n",
      " [0.         0.         0.         0.         0.         0.\n",
      "  0.         0.         0.         0.06683397 0.00457919 0.4777579\n",
      "  0.54753563 0.21893009 0.         0.         0.         0.\n",
      "  0.         0.         0.         0.         0.         0.\n",
      "  0.         0.         0.         0.        ]\n",
      " [0.         0.         0.         0.         0.         0.\n",
      "  0.         0.         0.         0.         0.         0.38243384\n",
      "  0.50112799 0.4168798  0.00654072 0.         0.         0.\n",
      "  0.         0.         0.         0.         0.         0.\n",
      "  0.         0.         0.         0.        ]\n",
      " [0.         0.         0.         0.         0.         0.\n",
      "  0.         0.         0.         0.         0.         0.03371478\n",
      "  0.41781625 0.58063913 0.22503798 0.         0.         0.\n",
      "  0.         0.         0.         0.         0.         0.\n",
      "  0.         0.         0.         0.        ]\n",
      " [0.         0.         0.         0.         0.         0.\n",
      "  0.         0.         0.         0.         0.         0.\n",
      "  0.06158711 0.40139999 0.51829211 0.36773747 0.23207058 0.00187293\n",
      "  0.         0.         0.         0.         0.         0.\n",
      "  0.         0.         0.         0.        ]\n",
      " [0.         0.         0.         0.         0.         0.\n",
      "  0.         0.         0.         0.         0.         0.\n",
      "  0.         0.10300678 0.43334591 0.46755397 0.44652804 0.1876074\n",
      "  0.04948401 0.         0.         0.         0.         0.\n",
      "  0.         0.         0.         0.        ]\n",
      " [0.         0.         0.         0.         0.         0.\n",
      "  0.         0.         0.         0.         0.         0.\n",
      "  0.         0.         0.08644512 0.37198372 0.48525406 0.43883953\n",
      "  0.32849422 0.07985692 0.         0.         0.         0.\n",
      "  0.         0.         0.         0.        ]\n",
      " [0.         0.         0.         0.         0.         0.\n",
      "  0.         0.         0.         0.         0.         0.\n",
      "  0.         0.         0.         0.03076734 0.16985537 0.42039718\n",
      "  0.52101647 0.50346169 0.         0.         0.         0.\n",
      "  0.         0.         0.         0.        ]\n",
      " [0.         0.         0.         0.         0.         0.\n",
      "  0.         0.         0.         0.         0.         0.\n",
      "  0.         0.         0.         0.         0.         0.36402587\n",
      "  0.45005044 0.57583354 0.40041837 0.         0.         0.\n",
      "  0.         0.         0.         0.        ]\n",
      " [0.         0.         0.         0.         0.         0.\n",
      "  0.         0.         0.         0.         0.         0.\n",
      "  0.         0.         0.07894122 0.22119041 0.29342503 0.368868\n",
      "  0.45086622 0.48732927 0.01302835 0.         0.         0.\n",
      "  0.         0.         0.         0.        ]\n",
      " [0.         0.         0.         0.         0.         0.\n",
      "  0.         0.         0.         0.         0.         0.\n",
      "  0.03793628 0.13471865 0.30719227 0.3405771  0.32411411 0.29704334\n",
      "  0.36621112 0.3627133  0.         0.         0.         0.\n",
      "  0.         0.         0.         0.        ]\n",
      " [0.         0.         0.         0.         0.         0.\n",
      "  0.         0.         0.         0.         0.06143001 0.18733439\n",
      "  0.21754509 0.23882623 0.36442558 0.37507884 0.36445218 0.2731169\n",
      "  0.13629731 0.         0.         0.         0.         0.\n",
      "  0.         0.         0.         0.        ]\n",
      " [0.         0.         0.         0.         0.         0.\n",
      "  0.         0.         0.05837295 0.15475587 0.48192571 0.36245943\n",
      "  0.22038427 0.21882722 0.34608062 0.2883179  0.11829852 0.00286978\n",
      "  0.         0.         0.         0.         0.         0.\n",
      "  0.         0.         0.         0.        ]\n",
      " [0.         0.         0.         0.         0.         0.\n",
      "  0.05853777 0.49129351 0.46677531 0.48210001 0.45434794 0.28733347\n",
      "  0.17809838 0.14120266 0.09459314 0.01168934 0.         0.\n",
      "  0.         0.         0.         0.         0.         0.\n",
      "  0.         0.         0.         0.        ]\n",
      " [0.         0.         0.         0.         0.35929792 0.56094688\n",
      "  0.66851469 0.62111148 0.43475417 0.37404953 0.3443092  0.20868236\n",
      "  0.07166403 0.00623892 0.         0.         0.         0.\n",
      "  0.         0.         0.         0.         0.         0.\n",
      "  0.         0.         0.         0.        ]\n",
      " [0.         0.         0.         0.         0.93322291 0.8278518\n",
      "  0.74139155 0.59423648 0.33666783 0.17638934 0.1538883  0.01161962\n",
      "  0.         0.         0.         0.         0.         0.\n",
      "  0.         0.         0.         0.         0.         0.\n",
      "  0.         0.         0.         0.        ]\n",
      " [0.         0.         0.         0.         0.         0.\n",
      "  0.         0.         0.         0.         0.         0.\n",
      "  0.         0.         0.         0.         0.         0.\n",
      "  0.         0.         0.         0.         0.         0.\n",
      "  0.         0.         0.         0.        ]\n",
      " [0.         0.         0.         0.         0.         0.\n",
      "  0.         0.         0.         0.         0.         0.\n",
      "  0.         0.         0.         0.         0.         0.\n",
      "  0.         0.         0.         0.         0.         0.\n",
      "  0.         0.         0.         0.        ]\n",
      " [0.         0.         0.         0.         0.         0.\n",
      "  0.         0.         0.         0.         0.         0.\n",
      "  0.         0.         0.         0.         0.         0.\n",
      "  0.         0.         0.         0.         0.         0.\n",
      "  0.         0.         0.         0.        ]]\n"
     ]
    }
   ],
   "source": [
    "print(x_train[0]) # 255 will be closer to 1 .. we can sset all values are normalize "
   ]
  },
  {
   "cell_type": "code",
   "execution_count": 10,
   "id": "bcfce12f",
   "metadata": {
    "scrolled": true
   },
   "outputs": [
    {
     "name": "stdout",
     "output_type": "stream",
     "text": [
      "5\n"
     ]
    }
   ],
   "source": [
    "print(y_train[0])"
   ]
  },
  {
   "cell_type": "code",
   "execution_count": 1,
   "id": "edb6752c",
   "metadata": {},
   "outputs": [],
   "source": [
    "x_train_1 = x_train.reshape(len(train_images), 28,28,1)\n",
    "x_test_1 = x_test.reshape(len(test_images), 28,28,1)"
   ]
  },
  {
   "cell_type": "code",
   "execution_count": 15,
   "id": "57ba0f50",
   "metadata": {},
   "outputs": [],
   "source": [
    "# deep learning architecture \n",
    "# training on 60000 sample dataset \n",
    "# crate a deep learning network in sequence \n",
    "\n",
    "from tensorflow.keras.models import Sequential \n",
    "from tensorflow.keras.layers import Dense, Activation, Flatten, Conv2D, MaxPooling2D"
   ]
  },
  {
   "cell_type": "code",
   "execution_count": 17,
   "id": "0bab28c6",
   "metadata": {},
   "outputs": [],
   "source": [
    "# crating a Neural Network \n",
    "model = Sequential() # we are going to concatenate our layers \n",
    "\n",
    "# First Convilution Layer \n",
    "model.add(Conv2D(64, (3,3), input_shape = x_train_1.shape[1:]))\n",
    "model.add(Activation(\"relu\"))\n",
    "model.add(MaxPooling2D(pool_size=(2,2)))\n",
    "\n",
    "# second Convolution Layer\n",
    "model.add(Conv2D(64, (3,3)))\n",
    "model.add(Activation(\"relu\"))\n",
    "model.add(MaxPooling2D(pool_size=(2,2)))\n",
    "\n",
    "# Third Convolution Layer\n",
    "model.add(Conv2D(64, (3,3)))\n",
    "model.add(Activation(\"relu\"))\n",
    "model.add(MaxPooling2D(pool_size=(2,2)))\n",
    "\n",
    "\n",
    "# Fully connected layer \n",
    "model.add(Flatten())\n",
    "model.add(Dense(64))\n",
    "model.add(Activation(\"relu\"))\n",
    "\n",
    "# Fully connected layer \n",
    "model.add(Dense(32))\n",
    "model.add(Activation(\"relu\"))\n",
    "\n",
    "# Last Fully connected layer \n",
    "model.add(Dense(10))\n",
    "model.add(Activation(\"softmax\"))\n"
   ]
  },
  {
   "cell_type": "code",
   "execution_count": 22,
   "id": "b42a7c2b",
   "metadata": {},
   "outputs": [],
   "source": [
    "model.compile(loss=\"sparse_categorical_crossentropy\", optimizer=\"adam\")\n",
    "#our target is to increase the accuracy "
   ]
  },
  {
   "cell_type": "code",
   "execution_count": 23,
   "id": "d2fec80c",
   "metadata": {},
   "outputs": [
    {
     "name": "stdout",
     "output_type": "stream",
     "text": [
      "Epoch 1/5\n",
      "1313/1313 [==============================] - 44s 32ms/step - loss: 0.3031 - accuracy: 0.9060 - val_loss: 0.1155 - val_accuracy: 0.9648\n",
      "Epoch 2/5\n",
      "1313/1313 [==============================] - 44s 34ms/step - loss: 0.0999 - accuracy: 0.9694 - val_loss: 0.0991 - val_accuracy: 0.9697\n",
      "Epoch 3/5\n",
      "1313/1313 [==============================] - 45s 34ms/step - loss: 0.0712 - accuracy: 0.9780 - val_loss: 0.0683 - val_accuracy: 0.9791\n",
      "Epoch 4/5\n",
      "1313/1313 [==============================] - 41s 31ms/step - loss: 0.0535 - accuracy: 0.9835 - val_loss: 0.0760 - val_accuracy: 0.9770\n",
      "Epoch 5/5\n",
      "1313/1313 [==============================] - 42s 32ms/step - loss: 0.0451 - accuracy: 0.9849 - val_loss: 0.0888 - val_accuracy: 0.9736\n"
     ]
    },
    {
     "data": {
      "text/plain": [
       "<keras.callbacks.History at 0x20da0e0e2b0>"
      ]
     },
     "execution_count": 23,
     "metadata": {},
     "output_type": "execute_result"
    }
   ],
   "source": [
    "model.fit(x_train_1,y_train,epochs=5, validation_split = 0.3)"
   ]
  },
  {
   "cell_type": "code",
   "execution_count": 24,
   "id": "40845c26",
   "metadata": {},
   "outputs": [
    {
     "name": "stdout",
     "output_type": "stream",
     "text": [
      "313/313 [==============================] - 2s 8ms/step - loss: 0.0898 - accuracy: 0.9734\n",
      "0.08977782726287842\n",
      "0.9733999967575073\n"
     ]
    }
   ],
   "source": [
    "# Evaluating on testing dataset \n",
    "test_loss, test_acc = model.evaluate(x_test_1, y_test)\n",
    "print(test_loss)\n",
    "print(test_acc)"
   ]
  },
  {
   "cell_type": "code",
   "execution_count": 25,
   "id": "431b57e7",
   "metadata": {},
   "outputs": [
    {
     "name": "stdout",
     "output_type": "stream",
     "text": [
      "313/313 [==============================] - 5s 7ms/step\n"
     ]
    }
   ],
   "source": [
    "prediction = model.predict([x_test_1])"
   ]
  },
  {
   "cell_type": "code",
   "execution_count": 26,
   "id": "c101833b",
   "metadata": {},
   "outputs": [
    {
     "name": "stdout",
     "output_type": "stream",
     "text": [
      "[[1.3619765e-08 1.8979180e-06 4.1279968e-06 ... 9.9997532e-01\n",
      "  2.4360013e-08 1.0817864e-05]\n",
      " [1.3024545e-04 9.2671411e-07 9.9972433e-01 ... 3.2752164e-06\n",
      "  1.1376342e-06 6.4675092e-05]\n",
      " [3.4348157e-06 9.9989176e-01 3.1445422e-06 ... 1.5344720e-05\n",
      "  2.0491648e-06 2.2310789e-05]\n",
      " ...\n",
      " [4.6986370e-09 1.3689642e-07 3.2677399e-08 ... 9.0861747e-08\n",
      "  5.4058933e-08 9.7596148e-06]\n",
      " [3.0646555e-05 4.0738882e-08 1.2955768e-09 ... 1.3404643e-08\n",
      "  6.3643587e-04 5.2731375e-05]\n",
      " [2.5018942e-02 2.6879701e-05 4.9142162e-03 ... 3.1046568e-06\n",
      "  2.2605823e-04 1.0790714e-03]]\n"
     ]
    }
   ],
   "source": [
    "print(prediction)"
   ]
  },
  {
   "cell_type": "code",
   "execution_count": 28,
   "id": "5d07c4ed",
   "metadata": {},
   "outputs": [
    {
     "name": "stdout",
     "output_type": "stream",
     "text": [
      "7\n"
     ]
    }
   ],
   "source": [
    "# convert the predictions form one hot encoding, we need to use numpy for that \n",
    "import numpy as np\n",
    "print(np.argmax(prediction[0]))"
   ]
  },
  {
   "cell_type": "code",
   "execution_count": 29,
   "id": "b303d857",
   "metadata": {},
   "outputs": [
    {
     "data": {
      "text/plain": [
       "<matplotlib.image.AxesImage at 0x20da2475d60>"
      ]
     },
     "execution_count": 29,
     "metadata": {},
     "output_type": "execute_result"
    },
    {
     "data": {
      "image/png": "[encoded data removed]",
      "text/plain": [
       "<Figure size 432x288 with 1 Axes>"
      ]
     },
     "metadata": {
      "needs_background": "light"
     },
     "output_type": "display_data"
    }
   ],
   "source": [
    "plt.imshow(x_test[0])"
   ]
  },
  {
   "cell_type": "code",
   "execution_count": 30,
   "id": "fba01227",
   "metadata": {},
   "outputs": [],
   "source": []
  },
  {
   "cell_type": "code",
   "execution_count": 31,
   "id": "4ab3a280",
   "metadata": {},
   "outputs": [],
   "source": []
  }
 ],
 "metadata": {
  "kernelspec": {
   "display_name": "Python 3 (ipykernel)",
   "language": "python",
   "name": "python3"
  },
  "language_info": {
   "codemirror_mode": {
    "name": "ipython",
    "version": 3
   },
   "file_extension": ".py",
   "mimetype": "text/x-python",
   "name": "python",
   "nbconvert_exporter": "python",
   "pygments_lexer": "ipython3",
   "version": "3.9.12"
  }
 },
 "nbformat": 4,
 "nbformat_minor": 5
}
